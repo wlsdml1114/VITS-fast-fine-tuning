{
  "cells": [
    {
      "cell_type": "code",
      "execution_count": 1,
      "metadata": {
        "id": "03vVx0mDtuwN"
      },
      "outputs": [
        {
          "name": "stdout",
          "output_type": "stream",
          "text": [
            "Tue Jan 23 22:33:23 2024       \n",
            "+---------------------------------------------------------------------------------------+\n",
            "| NVIDIA-SMI 546.65                 Driver Version: 546.65       CUDA Version: 12.3     |\n",
            "|-----------------------------------------+----------------------+----------------------+\n",
            "| GPU  Name                     TCC/WDDM  | Bus-Id        Disp.A | Volatile Uncorr. ECC |\n",
            "| Fan  Temp   Perf          Pwr:Usage/Cap |         Memory-Usage | GPU-Util  Compute M. |\n",
            "|                                         |                      |               MIG M. |\n",
            "|=========================================+======================+======================|\n",
            "|   0  NVIDIA GeForce RTX 4070 Ti   WDDM  | 00000000:01:00.0  On |                  N/A |\n",
            "|  0%   34C    P8              13W / 285W |   3020MiB / 12282MiB |     14%      Default |\n",
            "|                                         |                      |                  N/A |\n",
            "+-----------------------------------------+----------------------+----------------------+\n",
            "                                                                                         \n",
            "+---------------------------------------------------------------------------------------+\n",
            "| Processes:                                                                            |\n",
            "|  GPU   GI   CI        PID   Type   Process name                            GPU Memory |\n",
            "|        ID   ID                                                             Usage      |\n",
            "|=======================================================================================|\n",
            "|    0   N/A  N/A      2176    C+G   ...AppData\\Local\\Obsidian\\Obsidian.exe    N/A      |\n",
            "|    0   N/A  N/A      7164    C+G   ...ir\\CORSAIR iCUE 4 Software\\iCUE.exe    N/A      |\n",
            "|    0   N/A  N/A      7660    C+G   ...GeForce Experience\\NVIDIA Share.exe    N/A      |\n",
            "|    0   N/A  N/A      8708    C+G   C:\\Windows\\explorer.exe                   N/A      |\n",
            "|    0   N/A  N/A      9756    C+G   ...2txyewy\\StartMenuExperienceHost.exe    N/A      |\n",
            "|    0   N/A  N/A     10220    C+G   ....Search_cw5n1h2txyewy\\SearchApp.exe    N/A      |\n",
            "|    0   N/A  N/A     12060    C+G   ....Search_cw5n1h2txyewy\\SearchApp.exe    N/A      |\n",
            "|    0   N/A  N/A     13012    C+G   ...rPicker\\PowerToys.ColorPickerUI.exe    N/A      |\n",
            "|    0   N/A  N/A     13080    C+G   ...FancyZones\\PowerToys.FancyZones.exe    N/A      |\n",
            "|    0   N/A  N/A     13172    C+G   ...auncher\\PowerToys.PowerLauncher.exe    N/A      |\n",
            "|    0   N/A  N/A     13704    C+G   ....0_x64__8wekyb3d8bbwe\\HxOutlook.exe    N/A      |\n",
            "|    0   N/A  N/A     14828    C+G   ...ns\\Software\\Current\\LogiOverlay.exe    N/A      |\n",
            "|    0   N/A  N/A     15036    C+G   ...CBS_cw5n1h2txyewy\\TextInputHost.exe    N/A      |\n",
            "|    0   N/A  N/A     16712    C+G   ...oogle\\Chrome\\Application\\chrome.exe    N/A      |\n",
            "|    0   N/A  N/A     17948    C+G   ...B\\system_tray\\lghub_system_tray.exe    N/A      |\n",
            "|    0   N/A  N/A     18280    C+G   ...\\cef\\cef.win7x64\\steamwebhelper.exe    N/A      |\n",
            "|    0   N/A  N/A     18672    C+G   ...Data\\Local\\Programs\\OP.GG\\OP.GG.exe    N/A      |\n",
            "|    0   N/A  N/A     19108    C+G   ...siveControlPanel\\SystemSettings.exe    N/A      |\n",
            "|    0   N/A  N/A     19424    C+G   ...al\\Discord\\app-1.0.9030\\Discord.exe    N/A      |\n",
            "|    0   N/A  N/A     21760    C+G   ... Stream\\85.0.26.0\\GoogleDriveFS.exe    N/A      |\n",
            "|    0   N/A  N/A     21776    C+G   ...crosoft\\Edge\\Application\\msedge.exe    N/A      |\n",
            "|    0   N/A  N/A     23856    C+G   ...\\Local\\Figma\\app-116.15.4\\Figma.exe    N/A      |\n",
            "|    0   N/A  N/A     23876    C+G   ...inaries\\Win64\\EpicGamesLauncher.exe    N/A      |\n",
            "|    0   N/A  N/A     24728    C+G   ...Programs\\Microsoft VS Code\\Code.exe    N/A      |\n",
            "|    0   N/A  N/A     24940    C+G   ...5n1h2txyewy\\ShellExperienceHost.exe    N/A      |\n",
            "|    0   N/A  N/A     25504    C+G   ...ne\\Binaries\\Win64\\EpicWebHelper.exe    N/A      |\n",
            "|    0   N/A  N/A     25692    C+G   ...KH4QFVI5D52CBVCZWIME6ZLSA\\DeepL.exe    N/A      |\n",
            "|    0   N/A  N/A     29268    C+G   ...b3d8bbwe\\Microsoft.Media.Player.exe    N/A      |\n",
            "|    0   N/A  N/A     29276    C+G   ...1.0_x64__8wekyb3d8bbwe\\Video.UI.exe    N/A      |\n",
            "|    0   N/A  N/A     32576    C+G   ...oaderplus\\4kvideodownloaderplus.exe    N/A      |\n",
            "|    0   N/A  N/A     35076    C+G   ...ekyb3d8bbwe\\PhoneExperienceHost.exe    N/A      |\n",
            "|    0   N/A  N/A     36372    C+G   ...0_x64__8wekyb3d8bbwe\\HxAccounts.exe    N/A      |\n",
            "|    0   N/A  N/A     40400    C+G   ...rams\\Ultimate Vocal Remover\\UVR.exe    N/A      |\n",
            "+---------------------------------------------------------------------------------------+\n"
          ]
        }
      ],
      "source": [
        "# 查看GPU配置\n",
        "# Check GPU configuration\n",
        "!nvidia-smi"
      ]
    },
    {
      "cell_type": "markdown",
      "metadata": {
        "id": "fwJ-lNbOtp-9"
      },
      "source": [
        "##(2023/07/23) 这个笔记本参考[HWcomss](https://github.com/HWcomss)的版本修改而成，现已可以正常工作。\n",
        "##(23/07/2023) This notebook is a slightly modified version of [HWcomss](https://github.com/HWcomss)'s notebook, it's working fine now. Many thanks!\n"
      ]
    },
    {
      "cell_type": "code",
      "execution_count": null,
      "metadata": {
        "id": "-XEdEXyTHVfD"
      },
      "outputs": [],
      "source": [
        "#@title STEP 1 复制代码库并安装运行环境\n",
        "#@markdown #STEP 1 (6 min)\n",
        "#@markdown ##复制代码库并安装运行环境\n",
        "#@markdown ##Clone repository & Build environment\n",
        "\n",
        "!git clone https://github.com/Plachtaa/VITS-fast-fine-tuning.git\n",
        "!python -m pip install --upgrade --force-reinstall regex\n",
        "!python -m pip install --force-reinstall soundfile\n",
        "!python -m pip install --force-reinstall gradio\n",
        "!python -m pip install imageio==2.4.1\n",
        "!python -m pip install --upgrade youtube-dl\n",
        "!python -m pip install moviepy\n",
        "%cd VITS-fast-fine-tuning\n",
        "\n",
        "!python -m pip install --no-build-isolation -r requirements.txt\n",
        "!python -m pip install --upgrade numpy\n",
        "!python -m pip install --upgrade --force-reinstall numba\n",
        "!python -m pip install --upgrade Cython\n",
        "\n",
        "!python -m pip install --upgrade pyzmq\n",
        "!python -m pip install pydantic==1.10.4\n",
        "!python -m pip install ruamel.yaml\n",
        "!python -m pip install git+https://github.com/openai/whisper.git\n",
        "!python -m pip install gdown\n",
        "\n",
        "# build monotonic align\n",
        "%cd monotonic_align/\n",
        "!mkdir monotonic_align\n",
        "!python setup.py build_ext --inplace\n",
        "%cd ..\n",
        "!mkdir pretrained_models\n",
        "# download data for fine-tuning\n",
        "!wget https://huggingface.co/datasets/Plachta/sampled_audio4ft/resolve/main/sampled_audio4ft_v2.zip\n",
        "!unzip sampled_audio4ft_v2.zip\n",
        "# create necessary directories\n",
        "!mkdir video_data\n",
        "!mkdir raw_audio\n",
        "!mkdir denoised_audio\n",
        "!mkdir custom_character_voice\n",
        "!mkdir segmented_character_voice\n",
        "\n",
        "!export LC_ALL=\"en_US.UTF-8\"\n",
        "!export LD_LIBRARY_PATH=\"/usr/lib64-nvidia\"\n",
        "!export LIBRARY_PATH=\"/usr/local/cuda/lib64/stubs\"\n",
        "!ldconfig /usr/lib64-nvidia"
      ]
    },
    {
      "cell_type": "code",
      "execution_count": null,
      "metadata": {
        "id": "fkx_ago5vhu_"
      },
      "outputs": [],
      "source": []
    },
    {
      "cell_type": "code",
      "execution_count": null,
      "metadata": {
        "id": "2tzsb5mR6-d9"
      },
      "outputs": [],
      "source": [
        "#@title STEP 1.5 选择预训练模型\n",
        "#@markdown ###STEP 1.5 选择预训练模型\n",
        "#@markdown ###Choose pretrained model to start\n",
        "#@markdown CJE为中日英三语模型，CJ为中日双语模型，C为纯中文模型\n",
        "\n",
        "#@markdown CJE for Chinese, Japanese & English model，CJ for Chinese & Japanese model\n",
        "PRETRAINED_MODEL = \"CJKE\" # @param [\"CJE\", \"CJ\", \"C\", \"CJKE\"]\n",
        "if PRETRAINED_MODEL == \"CJ\":\n",
        "  !wget https://huggingface.co/spaces/sayashi/vits-uma-genshin-honkai/resolve/main/model/D_0-p.pth -O ./pretrained_models/D_0.pth\n",
        "  !wget https://huggingface.co/spaces/sayashi/vits-uma-genshin-honkai/resolve/main/model/G_0-p.pth -O ./pretrained_models/G_0.pth\n",
        "  !wget https://huggingface.co/spaces/sayashi/vits-uma-genshin-honkai/resolve/main/model/config.json -O ./configs/finetune_speaker.json\n",
        "elif PRETRAINED_MODEL == \"CJE\":\n",
        "  !wget https://huggingface.co/spaces/Plachta/VITS-Umamusume-voice-synthesizer/resolve/main/pretrained_models/D_trilingual.pth -O ./pretrained_models/D_0.pth\n",
        "  !wget https://huggingface.co/spaces/Plachta/VITS-Umamusume-voice-synthesizer/resolve/main/pretrained_models/G_trilingual.pth -O ./pretrained_models/G_0.pth\n",
        "  !wget https://huggingface.co/spaces/Plachta/VITS-Umamusume-voice-synthesizer/resolve/main/configs/uma_trilingual.json -O ./configs/finetune_speaker.json\n",
        "elif PRETRAINED_MODEL == \"C\":\n",
        "  !wget https://huggingface.co/datasets/Plachta/sampled_audio4ft/resolve/main/VITS-Chinese/D_0.pth -O ./pretrained_models/D_0.pth\n",
        "  !wget https://huggingface.co/datasets/Plachta/sampled_audio4ft/resolve/main/VITS-Chinese/G_0.pth -O ./pretrained_models/G_0.pth\n",
        "  !wget https://huggingface.co/datasets/Plachta/sampled_audio4ft/resolve/main/VITS-Chinese/config.json -O ./configs/finetune_speaker.json\n",
        "elif PRETRAINED_MODEL == \"CJKE\":\n",
        "  !wget https://huggingface.co/spaces/Plachta/VITS-Umamusume-voice-synthesizer/resolve/main/pretrained_models/D_trilingual.pth -O ./pretrained_models/D_0.pth\n",
        "  !wget https://huggingface.co/spaces/Plachta/VITS-Umamusume-voice-synthesizer/resolve/main/pretrained_models/G_trilingual.pth -O ./pretrained_models/G_0.pth\n",
        "  !wget https://huggingface.co/spaces/Plachta/VITS-Umamusume-voice-synthesizer/resolve/main/configs/uma_trilingual.json -O ./configs/finetune_speaker.json\n",
        "  !gdown --fuzzy https://drive.google.com/file/d/1nwbG7fM5kztBFD-BG2wOcRUF0FUrEFQ3/view?usp=drive_link -O /content/VITS-fast-fine-tuning/scripts/short_audio_transcribe.py\n",
        "  !gdown --fuzzy https://drive.google.com/file/d/15TUws0mxZqovwHjp3ZjFnD5PTXOMl2sG/view?usp=drive_link -O /content/VITS-fast-fine-tuning/scripts/long_audio_transcribe.py\n",
        "  !gdown --fuzzy https://drive.google.com/file/d/1_ohqDjFbVJi1upxyJHMUg5kvveHo6oRe/view?usp=drive_link -O /content/VITS-fast-fine-tuning/preprocess_v2.py\n",
        "  !gdown --fuzzy https://drive.google.com/file/d/19BWvspGUMpw0wIzBLRkJCwKxh_1fvDYo/view?usp=sharing -O /content/VITS-fast-fine-tuning/VC_inference.py\n",
        "\n",
        "\n"
      ]
    },
    {
      "cell_type": "markdown",
      "metadata": {
        "id": "9v755rS9453s"
      },
      "source": []
    },
    {
      "cell_type": "code",
      "execution_count": null,
      "metadata": {
        "id": "j1Q43oXND7Ih"
      },
      "outputs": [],
      "source": [
        "#@title （可选）加载Google云端硬盘 / Mount Google drive\n",
        "#@title (optional)\n",
        "\n",
        "#@markdown 加载Google云端硬盘（更快地上传数据集文件）\n",
        "\n",
        "#@markdown Mount Google drive for faster data upload\n",
        "from google.colab import drive\n",
        "drive.mount('/content/drive')"
      ]
    },
    {
      "cell_type": "markdown",
      "metadata": {
        "id": "Z5G1jozPFd6p"
      },
      "source": [
        "## STEP 2 上传您的角色音频数据\n",
        "## Upload your character voices\n",
        "见[数据集上传选项](https://github.com/Plachtaa/VITS-fast-fine-tuning/blob/main/DATA.MD)\n",
        "See [data upload options](https://github.com/Plachtaa/VITS-fast-fine-tuning/blob/main/DATA_EN.MD)\n"
      ]
    },
    {
      "cell_type": "markdown",
      "metadata": {
        "id": "Wjpr__yCPp_J"
      },
      "source": [
        "###STEP 2.1 上传短音频\n",
        "### Short audio upload"
      ]
    },
    {
      "cell_type": "code",
      "execution_count": null,
      "metadata": {
        "id": "hmNHnpBL5sgF"
      },
      "outputs": [],
      "source": [
        "#@markdown 上传选项1：运行该代码块会出现一个文件上传的入口\n",
        "\n",
        "#@markdown Upload option 1: Running this code block will prompt you to upload a file.\n",
        "%run scripts/voice_upload.py --type zip\n",
        "!unzip ./custom_character_voice/custom_character_voice.zip -d ./custom_character_voice/"
      ]
    },
    {
      "cell_type": "code",
      "execution_count": null,
      "metadata": {
        "id": "YOfe2ercNLal"
      },
      "outputs": [],
      "source": [
        "#@markdown 上传选项2：若您装载了Google云端硬盘，可以直接从Google云端硬盘加载文件。将`.zip`文件上传云端硬盘后，在下面填写文件路径：\n",
        "\n",
        "#@markdown Upload option 2: If you have mounted Google drive, you can load your files from Google drive directly. After uploading your `.zip` file to Google drive, fill in the path to your file below:\n",
        "ZIP_PATH = \"../drive/MyDrive/samples.zip\"  #@param {type:\"string\"}\n",
        "!cp {ZIP_PATH} ./custom_character_voice/custom_character_voice.zip\n",
        "!unzip ./custom_character_voice/custom_character_voice.zip -d ./custom_character_voice/"
      ]
    },
    {
      "cell_type": "markdown",
      "metadata": {
        "id": "FLGkhbvhP33f"
      },
      "source": [
        "### STEP 2.2 上传长音频 （单个不应长于20分钟）\n",
        "### Long audio upload"
      ]
    },
    {
      "cell_type": "code",
      "execution_count": null,
      "metadata": {
        "id": "unvLB7zrQTVA"
      },
      "outputs": [],
      "source": [
        "#@markdown 上传选项1：运行该代码块会出现一个文件上传的入口\n",
        "\n",
        "#@markdown Upload option 1: Running this code block will prompt you to upload a file.\n",
        "%run scripts/voice_upload.py --type audio"
      ]
    },
    {
      "cell_type": "code",
      "execution_count": null,
      "metadata": {
        "id": "-GWXUozRTZsj"
      },
      "outputs": [],
      "source": [
        "#@markdown 上传选项2：若您装载了Google云端硬盘，可以直接从Google云端硬盘加载文件。将所有长音频文件上传至云端硬盘的同一个文件夹下，在下面填写文件夹路径：\n",
        "\n",
        "#@markdown Upload option 2: If you have mounted Google drive, you can load your files from Google drive directly. Put all the long audios under one folder, and fill in the path to your folder below:\n",
        "AUDIO_FOLDER_PATH = \"../drive/MyDrive/ren/\"  #@param {type:\"string\"}\n",
        "!cp {AUDIO_FOLDER_PATH}/* ./raw_audio/"
      ]
    },
    {
      "cell_type": "markdown",
      "metadata": {
        "id": "5IDg3hAgWY0T"
      },
      "source": [
        "### STEP 2.3 上传视频（单个不应长于20分钟）\n",
        "### Video upload"
      ]
    },
    {
      "cell_type": "code",
      "execution_count": null,
      "metadata": {
        "id": "A4Fk-06bXq7b"
      },
      "outputs": [],
      "source": [
        "#@markdown 上传选项1：运行该代码块会出现一个文件上传的入口\n",
        "\n",
        "#@markdown Upload option 1: Running this code block will prompt you to upload a file.\n",
        "%run scripts/voice_upload.py --type video"
      ]
    },
    {
      "cell_type": "code",
      "execution_count": null,
      "metadata": {
        "id": "VuDsoW84X3BK"
      },
      "outputs": [],
      "source": [
        "#@markdown 上传选项2：若您装载了Google云端硬盘，可以直接从Google云端硬盘加载文件。将所有视频文件上传至云端硬盘的同一个文件夹下，在下面填写文件夹路径:\n",
        "\n",
        "#@markdown Upload option 2: If you have mounted Google drive, you can load your files from Google drive directly. Put all the videos under one folder, and fill in the path to your folder below:\n",
        "VIDEO_FOLDER_PATH = \"../drive/MyDrive/kane/\"  #@param {type:\"string\"}\n",
        "!cp {VIDEO_FOLDER_PATH}/* ./video_data/"
      ]
    },
    {
      "cell_type": "markdown",
      "metadata": {
        "id": "n1UxoAnoY8Cp"
      },
      "source": [
        "### STEP 2.4 上传视频链接（单个不应长于20分钟）\n",
        "### Video link upload"
      ]
    },
    {
      "cell_type": "code",
      "execution_count": null,
      "metadata": {
        "id": "ua_Blt02Cg97"
      },
      "outputs": [],
      "source": [
        "#@markdown 运行该代码块会出现一个文件上传的入口，上传单个`.txt`文件。若格式正确的话，视频会自动下载并将下载后的文件名打印在下方。\n",
        "\n",
        "#@markdown Running this code block will prompt you to upload a file.\n",
        "#@markdown Please upload a single `.txt` file. If you have put the links in the correct format,\n",
        "#@markdown the videos will be automatically downloaded and displayed below.\n",
        "%run scripts/download_video.py\n",
        "!ls ./video_data/"
      ]
    },
    {
      "cell_type": "markdown",
      "metadata": {
        "id": "YQGC-JyAaD2D"
      },
      "source": [
        "## STEP 3 自动处理所有上传的数据"
      ]
    },
    {
      "cell_type": "code",
      "execution_count": null,
      "metadata": {
        "id": "aJOO7VsPQf3G"
      },
      "outputs": [],
      "source": [
        "#@markdown 运行该单元格会对所有上传的数据进行自动去背景音&标注。\n",
        "#@markdown 由于需要调用Whisper和Demucs，运行时间可能较长。\n",
        "\n",
        "#@markdown Running this codeblock will perform automatic vocal seperation & annotation.\n",
        "#@markdown Since this step uses Whisper & Demucs, it may take a while to complete.\n",
        "# 将所有视频（无论是上传的还是下载的，且必须是.mp4格式）抽取音频\n",
        "%run scripts/video2audio.py\n",
        "# 将所有音频（无论是上传的还是从视频抽取的，必须是.wav格式）去噪\n",
        "!python scripts/denoise_audio.py\n",
        "# 分割并标注长音频\n",
        "!python scripts/long_audio_transcribe.py --languages \"{PRETRAINED_MODEL}\" --whisper_size large-v2\n",
        "# 标注短音频\n",
        "!python scripts/short_audio_transcribe.py --languages \"{PRETRAINED_MODEL}\" --whisper_size large-v2\n",
        "# 底模采样率可能与辅助数据不同，需要重采样\n",
        "!python scripts/resample.py"
      ]
    },
    {
      "cell_type": "markdown",
      "metadata": {
        "id": "WY12Ien-BUE7"
      },
      "source": [
        "#！！！训练质量相关：实验发现目前使用CJ模型+勾选ADD_AUXILIARY，对于中/日均能训练出最好的效果，第一次训练建议默认使用该组合！！！"
      ]
    },
    {
      "cell_type": "code",
      "execution_count": null,
      "metadata": {
        "id": "G_IM97N2e6fk"
      },
      "outputs": [],
      "source": [
        "#@markdown ##STEP 3.5\n",
        "#@markdown 运行该单元格会生成划分好训练/测试集的最终标注，以及配置文件\n",
        "\n",
        "#@markdown Running this block will generate final annotations for training & validation, as well as config file.\n",
        "\n",
        "#@markdown 选择是否加入辅助训练数据：/ Choose whether to add auxiliary data:\n",
        "ADD_AUXILIARY = True #@param {type:\"boolean\"}\n",
        "#@markdown 辅助训练数据是从预训练的大数据集抽样得到的，作用在于防止模型在标注不准确的数据上形成错误映射。\n",
        "\n",
        "#@markdown Auxiliary data is to prevent overfitting when the audio samples are small or with low quality.\n",
        "\n",
        "#@markdown 以下情况请勾选：\n",
        "\n",
        "#@markdown 总样本少于100条/样本质量一般或较差/样本来自爬取的视频\n",
        "\n",
        "#@markdown 以下情况可以不勾选：\n",
        "\n",
        "#@markdown 总样本量很大/样本质量很高/希望加速训练/只有二次元角色\n",
        "\n",
        "# assert(not (ADD_AUXILIARY and PRETRAINED_MODEL != \"CJE\")), \"add auxiliary data is available only available for CJE model!\"\n",
        "if ADD_AUXILIARY:\n",
        "  %run preprocess_v2.py --add_auxiliary_data True --languages \"{PRETRAINED_MODEL}\"\n",
        "else:\n",
        "  %run preprocess_v2.py --languages \"{PRETRAINED_MODEL}\""
      ]
    },
    {
      "cell_type": "markdown",
      "metadata": {
        "id": "VA4hV2G_fyKz"
      },
      "source": [
        "## STEP 4 开始训练"
      ]
    },
    {
      "cell_type": "code",
      "execution_count": null,
      "metadata": {
        "cellView": "form",
        "id": "4gmpTNtcW2Bt"
      },
      "outputs": [],
      "source": [
        "#@markdown #STEP 4 (>=20 min)\n",
        "#@markdown 开始微调模型。\n",
        "#@markdown 训练时长取决于你录入/上传的音频总数。\n",
        "\n",
        "#@markdown 根据声线和样本质量的不同，所需的训练epochs数也不同。\n",
        "\n",
        "#@markdown 你也可以在Tensorboard中预览合成效果，若效果满意可提前停止。\n",
        "\n",
        "#@markdown Model fine-tuning\n",
        "#@markdown Total time cost depends on the number of voices you recorded/uploaded.\n",
        "\n",
        "#@markdown Best epoch number varies depending on different uploaded voices / sample quality.\n",
        "\n",
        "#@markdown You can also preview synthezied audio in Tensorboard, it's OK to shut down training manually if you find the quality is satisfying.\n",
        "import os\n",
        "os.environ['TENSORBOARD_BINARY'] = '/usr/local/bin/tensorboard'\n",
        "\n",
        "if os.path.exists(\"/content/drive/MyDrive/\"):\n",
        "  !python scripts/rearrange_speaker.py\n",
        "  !cp ./finetune_speaker.json ../drive/MyDrive/finetune_speaker.json\n",
        "  !cp ./moegoe_config.json ../drive/MyDrive/moegoe_config.json\n",
        "\n",
        "%reload_ext tensorboard\n",
        "%tensorboard --logdir \"./OUTPUT_MODEL\"\n",
        "Maximum_epochs = \"200\" #@param {type:\"string\"}\n",
        "#@markdown 继续之前的模型训练/Continue training from previous checkpoint\n",
        "CONTINUE = False #@param {type:\"boolean\"}\n",
        "if CONTINUE:\n",
        "  !python finetune_speaker_v2.py -m \"./OUTPUT_MODEL\" --max_epochs \"{Maximum_epochs}\" --drop_speaker_embed False --cont True\n",
        "else:\n",
        "  !python finetune_speaker_v2.py -m \"./OUTPUT_MODEL\" --max_epochs \"{Maximum_epochs}\" --drop_speaker_embed True"
      ]
    },
    {
      "cell_type": "code",
      "execution_count": null,
      "metadata": {
        "id": "mFmb0Jqca8lG"
      },
      "outputs": [],
      "source": []
    },
    {
      "cell_type": "code",
      "execution_count": null,
      "metadata": {
        "id": "bbRYuwSAb9ni"
      },
      "outputs": [],
      "source": [
        "!pip install gradio"
      ]
    },
    {
      "cell_type": "code",
      "execution_count": null,
      "metadata": {
        "id": "SIK2XgD_ckgV"
      },
      "outputs": [],
      "source": [
        "!pip uninstall gradio --yes\n",
        "!pip install gradio==3.50.2\n",
        "#@markdown ### 微调完成后，在这里尝试效果。\n",
        "#@markdown ### 运行后会输出一个public URL, 点击进入网页版UI以使用模型\n",
        "#@markdown ### Try out TTS & VC quality here after fine-tuning is finished.\n",
        "!cp ./configs/modified_finetune_speaker.json ./finetune_speaker.json\n",
        "!python VC_inference.py --model_dir ./OUTPUT_MODEL/G_latest.pth --share True"
      ]
    },
    {
      "cell_type": "code",
      "execution_count": null,
      "metadata": {
        "id": "DfLK9KGVcHX4"
      },
      "outputs": [],
      "source": [
        "!pip uninstall gradio\n",
        "!pip install gradio==3.50.2"
      ]
    },
    {
      "cell_type": "markdown",
      "metadata": {
        "id": "MXYxSdt-m3YK"
      },
      "source": [
        "# STEP 5 下载模型\n",
        "## 本地部署方法请见[README](https://github.com/Plachtaa/VITS-fast-fine-tuning/blob/main/README_ZH.md)"
      ]
    },
    {
      "cell_type": "code",
      "execution_count": null,
      "metadata": {
        "id": "QcJQm6_ImD7o"
      },
      "outputs": [],
      "source": [
        "#@markdown ### 下载选项1：运行该单元格，浏览器会自动下载模型和配置文件\n",
        "#@markdown ### Download option 1: Running this codeblock will download model & config files by your browser.\n",
        "!python scripts/rearrange_speaker.py\n",
        "%run scripts/download_model.py"
      ]
    },
    {
      "cell_type": "code",
      "execution_count": null,
      "metadata": {
        "id": "k13JBTommkTj"
      },
      "outputs": [],
      "source": [
        "#@markdown ### 下载选项2：运行该单元格会将模型和配置文件保存到Google云端硬盘\n",
        "#@markdown ### Download option 2: Running this codeblock will save the mode & config files to your Google drive.\n",
        "!mkdir ../drive/MyDrive/MODEL12312\n",
        "!python scripts/rearrange_speaker.py\n",
        "!cp ./G_latest.pth ../drive/MyDrive/MODEL12312/G_latest.pth\n",
        "!cp ./finetune_speaker.json ../drive/MyDrive/MODEL12312/finetune_speaker.json\n",
        "!cp ./moegoe_config.json ../drive/MyDrive/MODEL12312/moegoe_config.json"
      ]
    },
    {
      "cell_type": "code",
      "execution_count": null,
      "metadata": {
        "id": "WI67Juj-YXQh"
      },
      "outputs": [],
      "source": [
        "!mkdir /content/drive/MyDrive/MODEL1"
      ]
    },
    {
      "cell_type": "code",
      "execution_count": null,
      "metadata": {
        "id": "hU8LmJlUcF1z"
      },
      "outputs": [],
      "source": [
        "#@markdown ### 运行该单元格会清空所有已上传的样本，需要时可使用\n",
        "#@markdown ### Running this codeblock will delete all voice samples you have uploaded. Use it if you need.\n",
        "!rm -rf ./custom_character_voice/*\n",
        "!rm -rf ./video_data/*\n",
        "!rm -rf ./raw_audio/*\n",
        "!rm -rf ./denoised_audio/*\n",
        "!rm -rf ./segmented_character_voice/*\n",
        "!rm -rf long_character_anno.txt\n",
        "!rm -rf short_character_anno.txt"
      ]
    },
    {
      "cell_type": "code",
      "execution_count": null,
      "metadata": {
        "id": "ZHK6qw4wRF8T"
      },
      "outputs": [],
      "source": [
        "#@markdown ### 运行该单元格会将切片和标注复制到谷歌云端硬盘根目录下名为`voice_data`的文件夹下以用作其它用途\n",
        "#@markdown ### Running this codeblock will copy all processed voices & annotations to a folder named `voice_data` under the root of Google Drive for other purpose of usage\n",
        "!mkdir ../drive/MyDrive/voice_data/\n",
        "!cp -rf ./custom_character_voice/ ../drive/MyDrive/voice_data/custom_character_voice/\n",
        "!cp -rf ./segmented_character_voice/ ../drive/MyDrive/voice_data/segmented_character_voice/\n",
        "!cp long_character_anno.txt ../drive/MyDrive/voice_data/long_character_anno.txt\n",
        "!cp short_character_anno.txt ../drive/MyDrive/voice_data/short_character_anno.txt"
      ]
    }
  ],
  "metadata": {
    "accelerator": "GPU",
    "colab": {
      "gpuType": "T4",
      "machine_shape": "hm",
      "private_outputs": true,
      "provenance": []
    },
    "kernelspec": {
      "display_name": "Python 3",
      "name": "python3"
    },
    "language_info": {
      "codemirror_mode": {
        "name": "ipython",
        "version": 3
      },
      "file_extension": ".py",
      "mimetype": "text/x-python",
      "name": "python",
      "nbconvert_exporter": "python",
      "pygments_lexer": "ipython3",
      "version": "3.8.18"
    }
  },
  "nbformat": 4,
  "nbformat_minor": 0
}
